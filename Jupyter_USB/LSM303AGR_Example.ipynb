{
 "cells": [
  {
   "cell_type": "markdown",
   "metadata": {},
   "source": [
    "# Adafruit Blinka + LSM303AGR Accelerometer"
   ]
  },
  {
   "cell_type": "code",
   "execution_count": null,
   "metadata": {},
   "outputs": [],
   "source": [
    "# Python Software Package Installation\n",
    "import sys\n",
    "!{sys.executable} -m pip install adafruit-blinka adafruit-circuitpython-msa301 hidapi adafruit-circuitpython-lsm303-accel ipympl\n",
    "\n",
    "# Set an Environment Variable so Adafruit Blinka knows we're using the MCP2221\n",
    "import os\n",
    "os.environ[\"BLINKA_MCP2221\"] = \"1\""
   ]
  },
  {
   "cell_type": "code",
   "execution_count": null,
   "metadata": {},
   "outputs": [],
   "source": [
    "import board\n",
    "import busio\n",
    "import adafruit_lsm303_accel\n",
    "\n",
    "i2c = busio.I2C(board.SCL, board.SDA)\n",
    "accel = adafruit_lsm303_accel.LSM303_Accel(i2c)"
   ]
  },
  {
   "cell_type": "markdown",
   "metadata": {},
   "source": [
    "Verify this cell returns acceleration data before proceeding"
   ]
  },
  {
   "cell_type": "code",
   "execution_count": null,
   "metadata": {},
   "outputs": [],
   "source": [
    "print(\"Acceleration (m/s^2): X=%0.3f Y=%0.3f Z=%0.3f\"%accel.acceleration)"
   ]
  },
  {
   "cell_type": "code",
   "execution_count": null,
   "metadata": {},
   "outputs": [],
   "source": [
    "import datetime\n",
    "import matplotlib.pyplot as plt\n",
    "import matplotlib.dates as mdates\n",
    "from collections import deque\n",
    "from matplotlib import animation, rc\n",
    "from matplotlib.animation import FuncAnimation\n",
    "%matplotlib notebook\n",
    "\n",
    "# How many sensor samples we want to store\n",
    "HISTORY_SIZE = 20\n",
    "\n",
    "# Global x-axis array\n",
    "x_vals = deque(maxlen=HISTORY_SIZE)\n",
    "\n",
    "# Accelerometer data\n",
    "accel_x = deque(maxlen=HISTORY_SIZE)\n",
    "accel_y = deque(maxlen=HISTORY_SIZE)\n",
    "accel_z = deque(maxlen=HISTORY_SIZE)\n",
    "\n",
    "# Create 3 side-by-side subplots\n",
    "fig, (ax1, ax2, ax3) = plt.subplots(1,3)\n",
    "\n",
    "# Global title\n",
    "fig.suptitle(\"LSM303AGR Accelerometer\", fontsize=14)\n",
    "\n",
    "def animate(i):\n",
    "    # Poll the LSM303AGR\n",
    "    accel_data = accel.acceleration\n",
    "    # Add the X/Y/Z values to the accel arrays\n",
    "    accel_x.append(accel_data[0])\n",
    "    accel_y.append(accel_data[1])\n",
    "    accel_z.append(accel_data[2])\n",
    "    \n",
    "    # Grab the datetime, auto-range based on length of accel_x array\n",
    "    x = [datetime.datetime.now() + datetime.timedelta(seconds=i) for i in range(len(accel_x))]\n",
    "    \n",
    "    ax1.cla()\n",
    "    ax2.cla()\n",
    "    ax3.cla()\n",
    "\n",
    "    # Set grid titles\n",
    "    ax1.set_title('X', fontsize=10)\n",
    "    ax2.set_title('Y', fontsize=10)\n",
    "    ax3.set_title('Z', fontsize=10)\n",
    "   \n",
    "    # Enable subplot grid lines\n",
    "    ax1.grid(True, linewidth=0.5, linestyle=':')\n",
    "    ax2.grid(True, linewidth=0.5, linestyle=':')   \n",
    "    ax3.grid(True, linewidth=0.5, linestyle=':')\n",
    "    \n",
    "    # Rotate the X-tick\n",
    "    ax1.tick_params(labelrotation=45)\n",
    "    ax2.tick_params(labelrotation=45)\n",
    "    ax3.tick_params(labelrotation=45)\n",
    "    \n",
    "    # Display the sub-plots\n",
    "    ax1.plot(x, accel_x, color='r')\n",
    "    ax2.plot(x, accel_y, color='g')\n",
    "    ax3.plot(x, accel_z, color='b')\n",
    "\n",
    "# Update graph every 125ms\n",
    "ani = animation.FuncAnimation(plt.gcf(), animate, interval=50)"
   ]
  }
 ],
 "metadata": {
  "kernelspec": {
   "display_name": "Python 3",
   "language": "python",
   "name": "python3"
  },
  "language_info": {
   "codemirror_mode": {
    "name": "ipython",
    "version": 3
   },
   "file_extension": ".py",
   "mimetype": "text/x-python",
   "name": "python",
   "nbconvert_exporter": "python",
   "pygments_lexer": "ipython3",
   "version": "3.7.4"
  }
 },
 "nbformat": 4,
 "nbformat_minor": 2
}
