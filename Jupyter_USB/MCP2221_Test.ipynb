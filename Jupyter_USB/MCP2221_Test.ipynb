{
 "cells": [
  {
   "cell_type": "code",
   "execution_count": 1,
   "metadata": {},
   "outputs": [
    {
     "name": "stdout",
     "output_type": "stream",
     "text": [
      "Requirement already satisfied: adafruit-blinka in /Users/brent/anaconda3/lib/python3.7/site-packages (3.2.0)\n",
      "Requirement already satisfied: adafruit-circuitpython-msa301 in /Users/brent/anaconda3/lib/python3.7/site-packages (1.1.0)\n",
      "Requirement already satisfied: hidapi in /Users/brent/anaconda3/lib/python3.7/site-packages (0.7.99.post21)\n",
      "Requirement already satisfied: Adafruit-PlatformDetect in /Users/brent/anaconda3/lib/python3.7/site-packages (from adafruit-blinka) (1.3.8)\n",
      "Requirement already satisfied: Adafruit-PureIO in /Users/brent/anaconda3/lib/python3.7/site-packages (from adafruit-blinka) (1.0.4)\n",
      "Requirement already satisfied: sysv-ipc; platform_system != \"Windows\" in /Users/brent/anaconda3/lib/python3.7/site-packages (from adafruit-blinka) (1.0.1)\n",
      "Requirement already satisfied: adafruit-circuitpython-busdevice in /Users/brent/anaconda3/lib/python3.7/site-packages (from adafruit-circuitpython-msa301) (4.0.1)\n",
      "Requirement already satisfied: adafruit-circuitpython-register in /Users/brent/anaconda3/lib/python3.7/site-packages (from adafruit-circuitpython-msa301) (1.7.1)\n",
      "Requirement already satisfied: setuptools>=19.0 in /Users/brent/anaconda3/lib/python3.7/site-packages (from hidapi) (40.2.0)\n"
     ]
    }
   ],
   "source": [
    "# Python Software Package Installation\n",
    "import sys\n",
    "!{sys.executable} -m pip install adafruit-blinka adafruit-circuitpython-msa301 hidapi"
   ]
  },
  {
   "cell_type": "code",
   "execution_count": 2,
   "metadata": {},
   "outputs": [],
   "source": [
    "# Set an Environment Variable so Adafruit Blinka knows we're using the MCP2221\n",
    "import os\n",
    "os.environ[\"BLINKA_MCP2221\"] = \"1\""
   ]
  },
  {
   "cell_type": "code",
   "execution_count": 3,
   "metadata": {},
   "outputs": [],
   "source": [
    "# Attempt to import a CircuitPython Module\n",
    "import board"
   ]
  },
  {
   "cell_type": "code",
   "execution_count": null,
   "metadata": {},
   "outputs": [],
   "source": []
  }
 ],
 "metadata": {
  "kernelspec": {
   "display_name": "Python 3",
   "language": "python",
   "name": "python3"
  },
  "language_info": {
   "codemirror_mode": {
    "name": "ipython",
    "version": 3
   },
   "file_extension": ".py",
   "mimetype": "text/x-python",
   "name": "python",
   "nbconvert_exporter": "python",
   "pygments_lexer": "ipython3",
   "version": "3.7.2"
  }
 },
 "nbformat": 4,
 "nbformat_minor": 2
}
